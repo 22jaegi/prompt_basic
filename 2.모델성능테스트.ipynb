{
 "cells": [
  {
   "cell_type": "code",
   "execution_count": 1,
   "id": "1c3e96a9",
   "metadata": {},
   "outputs": [
    {
     "data": {
      "text/plain": [
       "True"
      ]
     },
     "execution_count": 1,
     "metadata": {},
     "output_type": "execute_result"
    }
   ],
   "source": [
    "from dotenv import load_dotenv\n",
    "import os\n",
    "from anthropic import Anthropic\n",
    "from IPython.display import display, Markdown\n",
    "\n",
    "load_dotenv()"
   ]
  },
  {
   "cell_type": "code",
   "execution_count": 2,
   "id": "0a299b0d",
   "metadata": {},
   "outputs": [],
   "source": [
    "client = Anthropic(\n",
    "    api_key=os.getenv(\"ANTHROPIC_API_KEY\"))"
   ]
  },
  {
   "cell_type": "code",
   "execution_count": 3,
   "id": "3f8035c3",
   "metadata": {},
   "outputs": [],
   "source": [
    "def compare_models():\n",
    "    models = [\n",
    "        \"claude-3-haiku-20240307\",\n",
    "        \"claude-3-5-sonnet-20240620\",\n",
    "        \"claude-3-opus-20240229\",\n",
    "    ]\n",
    "    task = \"\"\"\n",
    "    다음 문제를 해결하십시오.\n",
    "    <문제>\n",
    "    4명의 용의자 중 3명은 진실을 말하고, 1명은 거짓말을 합니다.\n",
    "    A는 B가 범인이라고 말합니다.\n",
    "    B는 C가 범인이라고 말합니다.\n",
    "    C는 D가 범인이라고 말합니다.\n",
    "    D는 C가 범인이라고 말합니다.\n",
    "    </문제>\n",
    "    \n",
    "    이 문제에 대해서 해결할 수 없다면 해결할 수 없다고 말하십시오.\n",
    "    \"\"\"\n",
    "\n",
    "    for model in models:\n",
    "        answers = []\n",
    "        for i in range(5):\n",
    "            response = client.messages.create(\n",
    "                model=model,\n",
    "                messages=[{\"role\": \"user\", \"content\": task}],\n",
    "                max_tokens=1000,\n",
    "            )\n",
    "            answers.append(response.content[0].text)\n",
    "\n",
    "        answers.append(\"***\")\n",
    "        display(Markdown(f\"## Model: {model}\"))\n",
    "        for i, answer in enumerate(answers):\n",
    "            display(Markdown(f\"{i+1}. {answer}\"))\n",
    "        print(\"\\n\\n\")\n"
   ]
  },
  {
   "cell_type": "code",
   "execution_count": 4,
   "id": "4a376d49",
   "metadata": {},
   "outputs": [
    {
     "data": {
      "text/markdown": [
       "## Model: claude-3-haiku-20240307"
      ],
      "text/plain": [
       "<IPython.core.display.Markdown object>"
      ]
     },
     "metadata": {},
     "output_type": "display_data"
    },
    {
     "data": {
      "text/markdown": [
       "1. 이 문제에 대해서는 해결책을 찾기 어려운 것 같습니다.\n",
       "\n",
       "주어진 정보만으로는 범인을 확실하게 밝혀낼 수 없습니다. 다음과 같은 이유로 해결이 어려운 것으로 보입니다:\n",
       "\n",
       "1. 용의자 4명 중 3명은 진실을 말하고 1명은 거짓말을 한다고 했지만, 누가 거짓말을 하는지 알 수 없습니다.\n",
       "\n",
       "2. A, B, C, D 모두 서로 다른 사람을 범인이라고 주장하고 있어, 어느 한 사람의 진술을 믿기 어렵습니다.\n",
       "\n",
       "3. 만약 B가 범인이라면 A는 진실을 말하고 있지만, B가 C를 범인이라고 말하는 것은 거짓말일 수 있습니다.\n",
       "\n",
       "따라서 주어진 정보만으로는 범인을 정확하게 찾아내기 어려우며, 추가적인 정보나 조사가 필요할 것으로 보입니다. 이 문제를 해결하기 위해서는 더 많은 정보가 필요합니다."
      ],
      "text/plain": [
       "<IPython.core.display.Markdown object>"
      ]
     },
     "metadata": {},
     "output_type": "display_data"
    },
    {
     "data": {
      "text/markdown": [
       "2. 이 문제에 대해서는 해결할 수 없습니다.\n",
       "\n",
       "이 문제에는 몇 가지 모순된 정보가 있어서 정확한 범인을 파악하기 어렵습니다. \n",
       "\n",
       "A는 B가 범인이라고 말하지만, B는 C가 범인이라고 말합니다. 또한 C는 D가 범인이라고 말하고, D는 C가 범인이라고 말합니다. \n",
       "\n",
       "이처럼 각 용의자들의 진술이 서로 모순되어 있어, 누가 범인인지 판단할 수 없습니다. \n",
       "\n",
       "또한 문제 설명에 따르면 4명 중 3명은 진실을 말하고 1명만 거짓말을 한다고 되어 있지만, 실제로는 모든 용의자의 진술이 모순되어 있어 정확한 범인을 특정할 수 없습니다.\n",
       "\n",
       "따라서 이 문제에 대해서는 해결할 수 없다고 말씀드립니다."
      ],
      "text/plain": [
       "<IPython.core.display.Markdown object>"
      ]
     },
     "metadata": {},
     "output_type": "display_data"
    },
    {
     "data": {
      "text/markdown": [
       "3. 이 문제에 대해서는 해결할 수 없습니다.\n",
       "\n",
       "이유는 다음과 같습니다:\n",
       "\n",
       "1. 4명의 용의자 중 3명은 진실을 말하고 1명은 거짓말을 한다고 했습니다.\n",
       "2. A는 B가 범인이라고 말하고, B는 C가 범인이라고 말합니다.\n",
       "3. C는 D가 범인이라고 말하고, D는 C가 범인이라고 말합니다.\n",
       "4. 이렇게 되면 A, B, C, D 모두가 거짓말을 하고 있거나 모두가 진실을 말하고 있는 것이 됩니다.\n",
       "5. 따라서 이 문제에서 누가 범인인지 판단할 수 없습니다.\n",
       "\n",
       "이 문제의 답을 찾기 위해서는 추가적인 정보가 필요합니다. 예를 들어 용의자 중 한 명이 반드시 거짓말을 한다는 것 외에 다른 정보가 더 있어야 할 것 같습니다."
      ],
      "text/plain": [
       "<IPython.core.display.Markdown object>"
      ]
     },
     "metadata": {},
     "output_type": "display_data"
    },
    {
     "data": {
      "text/markdown": [
       "4. 이 문제는 해결할 수 없습니다.\n",
       "\n",
       "이유는 다음과 같습니다:\n",
       "\n",
       "1. 4명의 용의자 중 3명은 진실을 말하고 1명은 거짓말을 한다고 했습니다.\n",
       "2. A는 B가 범인이라고 말하고, B는 C가 범인이라고 말합니다.\n",
       "3. C는 D가 범인이라고 말하고, D는 C가 범인이라고 말합니다.\n",
       "4. 이 4개의 진술이 모순되어, 범인이 누구인지 확정할 수 없습니다.\n",
       "\n",
       "따라서 이 문제는 해결할 수 없습니다."
      ],
      "text/plain": [
       "<IPython.core.display.Markdown object>"
      ]
     },
     "metadata": {},
     "output_type": "display_data"
    },
    {
     "data": {
      "text/markdown": [
       "5. 이 문제에 대해 정확한 해결책을 찾기는 어렵습니다. 주어진 정보만으로는 범인을 확정할 수 없습니다.\n",
       "\n",
       "다음과 같은 이유로 이 문제를 해결할 수 없습니다:\n",
       "\n",
       "1. 진실을 말하는 사람이 누구인지 알 수 없습니다. 3명이 진실을 말하고 1명이 거짓말을 한다고 했지만, 누가 거짓말을 하는지 알 수 없습니다.\n",
       "\n",
       "2. 용의자들의 진술이 서로 모순되고 있습니다. A는 B가 범인이라고 말하지만, B는 C가 범인이라고 말합니다. 또한 C와 D가 서로 상대방을 범인이라고 말하고 있습니다.\n",
       "\n",
       "3. 용의자들의 진술이 모순되므로, 범인을 확정할 수 없습니다. 모든 진술이 거짓일 수도 있고, 또는 3명이 진실을 말하고 1명이 거짓말을 할 수도 있습니다.\n",
       "\n",
       "따라서 주어진 정보만으로는 이 문제를 해결할 수 없다고 말씀드립니다."
      ],
      "text/plain": [
       "<IPython.core.display.Markdown object>"
      ]
     },
     "metadata": {},
     "output_type": "display_data"
    },
    {
     "data": {
      "text/markdown": [
       "6. ***"
      ],
      "text/plain": [
       "<IPython.core.display.Markdown object>"
      ]
     },
     "metadata": {},
     "output_type": "display_data"
    },
    {
     "name": "stdout",
     "output_type": "stream",
     "text": [
      "\n",
      "\n",
      "\n"
     ]
    },
    {
     "data": {
      "text/markdown": [
       "## Model: claude-3-5-sonnet-20240620"
      ],
      "text/plain": [
       "<IPython.core.display.Markdown object>"
      ]
     },
     "metadata": {},
     "output_type": "display_data"
    },
    {
     "data": {
      "text/markdown": [
       "1. 이 문제는 주어진 정보만으로는 명확하게 해결할 수 없습니다.\n",
       "\n",
       "이유는 다음과 같습니다:\n",
       "\n",
       "1. 4명 중 3명이 진실을 말하고 1명이 거짓말을 한다는 것은 알지만, 누가 거짓말을 하는지 특정할 수 없습니다.\n",
       "\n",
       "2. 각 용의자의 진술이 서로 다른 사람을 가리키고 있어, 누군가 거짓말을 하고 있다는 것은 확실하지만 누구인지 특정할 수 없습니다.\n",
       "\n",
       "3. 범인이 누구인지 직접적으로 밝혀주는 정보가 없습니다.\n",
       "\n",
       "4. 거짓말을 하는 사람과 범인이 같은 사람인지, 다른 사람인지에 대한 정보도 없습니다.\n",
       "\n",
       "따라서 이 정보만으로는 누가 범인인지, 누가 거짓말을 하는지 확실하게 결정할 수 없습니다. 추가적인 정보나 단서가 필요합니다."
      ],
      "text/plain": [
       "<IPython.core.display.Markdown object>"
      ]
     },
     "metadata": {},
     "output_type": "display_data"
    },
    {
     "data": {
      "text/markdown": [
       "2. 이 문제는 주어진 정보만으로는 정확히 해결할 수 없습니다.\n",
       "\n",
       "이유는 다음과 같습니다:\n",
       "\n",
       "1. 4명 중 3명이 진실을 말하고 1명이 거짓말을 한다는 것은 알지만, 누가 거짓말을 하는지 특정할 수 없습니다.\n",
       "\n",
       "2. 각 사람의 진술만으로는 누가 범인인지 확실하게 결정할 수 없습니다.\n",
       "\n",
       "3. 여러 가지 가능성이 존재합니다. 예를 들어:\n",
       "   - C가 범인이고 D가 거짓말을 하는 경우\n",
       "   - D가 범인이고 A, B, C 중 한 명이 거짓말을 하는 경우\n",
       "\n",
       "4. 추가적인 정보나 조건이 없다면, 유일한 범인을 특정하거나 거짓말을 하는 사람을 확실히 알아내기 어렵습니다.\n",
       "\n",
       "따라서 주어진 정보만으로는 이 문제를 명확하게 해결할 수 없습니다."
      ],
      "text/plain": [
       "<IPython.core.display.Markdown object>"
      ]
     },
     "metadata": {},
     "output_type": "display_data"
    },
    {
     "data": {
      "text/markdown": [
       "3. 이 문제는 주어진 정보만으로는 명확하게 해결할 수 없습니다.\n",
       "\n",
       "그 이유는 다음과 같습니다:\n",
       "\n",
       "1. 4명 중 3명이 진실을 말하고 1명이 거짓말을 한다는 조건이 있지만, 누가 거짓말을 하는지 특정할 수 없습니다.\n",
       "\n",
       "2. 각 용의자의 진술이 서로 연결되어 있어, 한 사람의 진술이 거짓이라면 나머지 진술들의 진실 여부도 달라질 수 있습니다.\n",
       "\n",
       "3. 범인이 누구인지 직접적으로 알 수 있는 정보가 부족합니다.\n",
       "\n",
       "4. 진술들 사이에 모순이 있어 (C와 D가 서로를 범인이라고 지목), 누군가는 반드시 거짓말을 하고 있지만 누구인지 특정할 수 없습니다.\n",
       "\n",
       "따라서 이 정보만으로는 누가 범인인지, 누가 거짓말을 하고 있는지 확실하게 결정할 수 없습니다. 추가적인 정보나 조건이 필요합니다."
      ],
      "text/plain": [
       "<IPython.core.display.Markdown object>"
      ]
     },
     "metadata": {},
     "output_type": "display_data"
    },
    {
     "data": {
      "text/markdown": [
       "4. 이 문제는 주어진 정보만으로는 명확하게 해결할 수 없습니다.\n",
       "\n",
       "이유는 다음과 같습니다:\n",
       "\n",
       "1. 4명 중 3명이 진실을 말하고 1명이 거짓말을 한다는 것은 알지만, 누가 거짓말을 하는지 특정할 수 없습니다.\n",
       "\n",
       "2. 각 사람의 진술이 서로를 가리키고 있어 순환적인 구조를 이루고 있습니다.\n",
       "\n",
       "3. 거짓말을 하는 사람이 누구인지에 따라 범인이 달라질 수 있습니다.\n",
       "\n",
       "4. 범인이 진실을 말하는 경우와 거짓말을 하는 경우 모두 가능하기 때문에, 범인을 특정할 수 없습니다.\n",
       "\n",
       "따라서 이 문제는 주어진 정보만으로는 명확한 해답을 도출할 수 없습니다. 범인을 특정하기 위해서는 추가적인 정보나 조건이 필요합니다."
      ],
      "text/plain": [
       "<IPython.core.display.Markdown object>"
      ]
     },
     "metadata": {},
     "output_type": "display_data"
    },
    {
     "data": {
      "text/markdown": [
       "5. 이 문제는 주어진 정보만으로는 명확하게 해결할 수 없습니다.\n",
       "\n",
       "이유는 다음과 같습니다:\n",
       "\n",
       "1. 4명 중 3명이 진실을 말하고 1명이 거짓말을 한다는 조건이 있지만, 누가 거짓말을 하는지 특정할 수 없습니다.\n",
       "\n",
       "2. 각 사람의 진술이 서로 다른 사람을 가리키고 있어, 누군가 거짓말을 하고 있다는 것은 알 수 있지만 누가 범인인지 확실하게 결론 내릴 수 없습니다.\n",
       "\n",
       "3. 거짓말을 하는 사람이 누구냐에 따라 범인이 달라질 수 있습니다. 예를 들어:\n",
       "   - A가 거짓말을 한다면, B는 범인이 아니고 C가 범인일 수 있습니다.\n",
       "   - B가 거짓말을 한다면, C는 범인이 아니고 D가 범인일 수 있습니다.\n",
       "   - C가 거짓말을 한다면, D는 범인이 아니고 C가 범인일 수 있습니다.\n",
       "   - D가 거짓말을 한다면, C는 범인이 아니고 B가 범인일 수 있습니다.\n",
       "\n",
       "따라서 주어진 정보만으로는 누가 범인인지 확실하게 결정할 수 없습니다. 추가적인 정보나 조건이 필요합니다."
      ],
      "text/plain": [
       "<IPython.core.display.Markdown object>"
      ]
     },
     "metadata": {},
     "output_type": "display_data"
    },
    {
     "data": {
      "text/markdown": [
       "6. ***"
      ],
      "text/plain": [
       "<IPython.core.display.Markdown object>"
      ]
     },
     "metadata": {},
     "output_type": "display_data"
    },
    {
     "name": "stdout",
     "output_type": "stream",
     "text": [
      "\n",
      "\n",
      "\n"
     ]
    },
    {
     "data": {
      "text/markdown": [
       "## Model: claude-3-opus-20240229"
      ],
      "text/plain": [
       "<IPython.core.display.Markdown object>"
      ]
     },
     "metadata": {},
     "output_type": "display_data"
    },
    {
     "data": {
      "text/markdown": [
       "1. 이 문제는 해결할 수 있습니다. \n",
       "\n",
       "A, B, C, D 중 3명은 진실을 말하므로, 거짓말쟁이 1명을 제외하고는 모두 다른 사람이 범인이라고 말합니다.\n",
       "\n",
       "만약 A가 거짓말쟁이라면, B는 진실을 말하는 것이므로 C가 범인입니다. 그러나 이 경우 C와 D도 진실을 말해야 하는데, 그들의 진술이 일치하지 않습니다. 따라서 A는 진실을 말합니다.\n",
       "\n",
       "A가 진실을 말한다면, B는 거짓말쟁이입니다. C와 D는 진실을 말하므로, 그들이 지목한 D와 C 중 한 명이 범인이어야 합니다. 하지만 D와 C는 서로를 지목하고 있으므로 모순입니다.\n",
       "\n",
       "따라서 이 문제의 조건으로는 범인을 특정할 수 없습니다. 모순이 발생하기 때문입니다."
      ],
      "text/plain": [
       "<IPython.core.display.Markdown object>"
      ]
     },
     "metadata": {},
     "output_type": "display_data"
    },
    {
     "data": {
      "text/markdown": [
       "2. 이 문제는 해결할 수 있습니다.\n",
       "\n",
       "거짓말을 하는 사람이 범인이므로, 각 사람의 주장을 분석해보면 범인을 특정할 수 있습니다.\n",
       "\n",
       "1. A가 거짓말쟁이라면, B는 범인이 아닙니다. 그러나 B와 C의 주장이 모순되므로 이는 불가능합니다.\n",
       "2. B가 거짓말쟁이라면, C는 범인이 아닙니다. 그러나 C와 D의 주장이 모순되므로 이는 불가능합니다. \n",
       "3. C가 거짓말쟁이라면, D는 범인이 아닙니다. 이 경우 A와 B의 주장이 모순되지 않으므로 가능한 시나리오입니다.\n",
       "4. D가 거짓말쟁이라면, C는 범인입니다. 그러나 이는 C의 주장과 모순되므로 불가능합니다.\n",
       "\n",
       "따라서 C가 거짓말을 하고 있으며, C가 범인입니다."
      ],
      "text/plain": [
       "<IPython.core.display.Markdown object>"
      ]
     },
     "metadata": {},
     "output_type": "display_data"
    },
    {
     "data": {
      "text/markdown": [
       "3. 주어진 정보만으로는 범인을 특정할 수 없습니다. \n",
       "\n",
       "A, B, C, D 중 한 명만 거짓말을 하고 있기 때문에, 만약 A가 거짓말을 한다면 B는 범인이 아닙니다. 하지만 A가 진실을 말한다면 B는 범인입니다. \n",
       "\n",
       "B와 C, C와 D도 서로를 범인으로 지목하고 있어서 누가 진실을 말하고 누가 거짓말을 하는지 알 수 없습니다.\n",
       "\n",
       "따라서 주어진 정보만으로는 누가 실제 범인인지 특정할 수 없어 이 문제는 해결할 수 없습니다."
      ],
      "text/plain": [
       "<IPython.core.display.Markdown object>"
      ]
     },
     "metadata": {},
     "output_type": "display_data"
    },
    {
     "data": {
      "text/markdown": [
       "4. 이 문제는 해결할 수 있습니다.\n",
       "\n",
       "진실을 말하는 사람이 3명이고 거짓말하는 사람이 1명이라는 것에 주목해야 합니다.\n",
       "\n",
       "1. A가 거짓말을 한다고 가정해봅시다. 그러면 B, C, D는 모두 진실을 말하게 됩니다. 하지만 이 경우 B와 D의 진술이 모순되므로 A는 진실을 말한다는 것을 알 수 있습니다.\n",
       "\n",
       "2. B가 거짓말을 한다고 가정해봅시다. 그러면 A, C, D는 모두 진실을 말하게 됩니다. 이 경우 C와 D의 진술이 모순되므로 B도 진실을 말합니다.\n",
       "\n",
       "3. C가 거짓말을 한다고 가정해봅시다. 그러면 A, B, D는 모두 진실을 말하게 됩니다. 이 경우 모순이 발생하지 않으므로 C가 유일한 거짓말쟁이라는 것을 알 수 있습니다.\n",
       "\n",
       "따라서 범인은 D입니다."
      ],
      "text/plain": [
       "<IPython.core.display.Markdown object>"
      ]
     },
     "metadata": {},
     "output_type": "display_data"
    },
    {
     "data": {
      "text/markdown": [
       "5. 이 문제는 해결할 수 있습니다.\n",
       "\n",
       "거짓말을 하는 사람이 범인이라고 가정해보면, \n",
       "\n",
       "1. A가 거짓말을 한다면, B가 범인이 아니라는 뜻이므로 모순입니다.\n",
       "2. B가 거짓말을 한다면, C가 범인일 수 있습니다.  \n",
       "3. C가 거짓말을 한다면, D가 범인이 아니라는 뜻이므로 모순입니다.\n",
       "4. D가 거짓말을 한다면, C가 범인일 수 있습니다.\n",
       "\n",
       "B와 D의 주장이 일치하므로, 이들 중 한 명이 거짓말을 하고 있는 것입니다. \n",
       "따라서 C가 범인이라고 결론 내릴 수 있습니다."
      ],
      "text/plain": [
       "<IPython.core.display.Markdown object>"
      ]
     },
     "metadata": {},
     "output_type": "display_data"
    },
    {
     "data": {
      "text/markdown": [
       "6. ***"
      ],
      "text/plain": [
       "<IPython.core.display.Markdown object>"
      ]
     },
     "metadata": {},
     "output_type": "display_data"
    },
    {
     "name": "stdout",
     "output_type": "stream",
     "text": [
      "\n",
      "\n",
      "\n"
     ]
    }
   ],
   "source": [
    "compare_models()"
   ]
  }
 ],
 "metadata": {
  "kernelspec": {
   "display_name": ".venv",
   "language": "python",
   "name": "python3"
  },
  "language_info": {
   "codemirror_mode": {
    "name": "ipython",
    "version": 3
   },
   "file_extension": ".py",
   "mimetype": "text/x-python",
   "name": "python",
   "nbconvert_exporter": "python",
   "pygments_lexer": "ipython3",
   "version": "3.13.2"
  }
 },
 "nbformat": 4,
 "nbformat_minor": 5
}
