{
 "cells": [
  {
   "cell_type": "code",
   "execution_count": 1,
   "id": "5632cf88",
   "metadata": {},
   "outputs": [],
   "source": [
    "from langchain.prompts import PromptTemplate"
   ]
  },
  {
   "cell_type": "code",
   "execution_count": 2,
   "id": "fb840db3",
   "metadata": {},
   "outputs": [
    {
     "data": {
      "text/plain": [
       "'0.3.25'"
      ]
     },
     "execution_count": 2,
     "metadata": {},
     "output_type": "execute_result"
    }
   ],
   "source": [
    "import langchain\n",
    "\n",
    "langchain.__version__"
   ]
  },
  {
   "cell_type": "code",
   "execution_count": 10,
   "id": "d029d6f4",
   "metadata": {},
   "outputs": [
    {
     "name": "stdout",
     "output_type": "stream",
     "text": [
      "당신은 최고 수준의 마케팅 카피라이터입니다. \n",
      "아래 제품의 매력적인 홍보 문구를 100자 내외로 작성하십시오. \n",
      "\n",
      "제품명: 초슈퍼카메라 X100\n"
     ]
    }
   ],
   "source": [
    "# 템플릿 문자열 : 프롬프트의 골격을 정의\n",
    "# PromptTemplate 객체 생성 : 인스턴스 변수 선언\n",
    "# 포맷(format) 메서드 수행 : PromptTemplate.format()\n",
    "# LLM 호출\n",
    "\n",
    "template_str = (\n",
    "    \"당신은 최고 수준의 마케팅 카피라이터입니다. \\n\"\n",
    "    \"아래 제품의 매력적인 홍보 문구를 100자 내외로 작성하십시오. \\n\\n\"\n",
    "    \"제품명: {product_name}\"\n",
    ")\n",
    "\n",
    "prompt = PromptTemplate.from_template(template_str)\n",
    "\n",
    "input_str =input(\"제품명을 입력하세요: \")\n",
    "formatted_prompt = prompt.format(product_name=\"초슈퍼카메라 X100\")\n",
    "print(formatted_prompt)"
   ]
  },
  {
   "cell_type": "code",
   "execution_count": 11,
   "id": "dcccc0cb",
   "metadata": {},
   "outputs": [
    {
     "name": "stdout",
     "output_type": "stream",
     "text": [
      "content='당신의 꿈을 향한 무한한 가능성, 하늘과 함께 날아오르세요. 자유와 희망이 가득한 새로운 시작!' additional_kwargs={'refusal': None} response_metadata={'token_usage': {'completion_tokens': 34, 'prompt_tokens': 49, 'total_tokens': 83, 'completion_tokens_details': {'accepted_prediction_tokens': 0, 'audio_tokens': 0, 'reasoning_tokens': 0, 'rejected_prediction_tokens': 0}, 'prompt_tokens_details': {'audio_tokens': 0, 'cached_tokens': 0}}, 'model_name': 'gpt-4.1-nano-2025-04-14', 'system_fingerprint': 'fp_38343a2f8f', 'id': 'chatcmpl-Bk3G3GhX26r9yGMdiuMFdL6ZzdtHb', 'service_tier': 'default', 'finish_reason': 'stop', 'logprobs': None} id='run--0ba63603-91e6-4b6a-81d8-0adb4a6c5fea-0' usage_metadata={'input_tokens': 49, 'output_tokens': 34, 'total_tokens': 83, 'input_token_details': {'audio': 0, 'cache_read': 0}, 'output_token_details': {'audio': 0, 'reasoning': 0}}\n"
     ]
    }
   ],
   "source": [
    "from langchain_openai import ChatOpenAI\n",
    "\n",
    "llm = ChatOpenAI(model=\"gpt-4.1-nano\", temperature=0)\n",
    "\n",
    "chain = prompt | llm\n",
    "\n",
    "result = chain.invoke({\"product_name\": input_str})\n",
    "print(result)"
   ]
  },
  {
   "cell_type": "markdown",
   "id": "b665a7e3",
   "metadata": {},
   "source": [
    "다중 입력 PromptTemplate"
   ]
  },
  {
   "cell_type": "code",
   "execution_count": 16,
   "id": "14ac6140",
   "metadata": {},
   "outputs": [
    {
     "name": "stdout",
     "output_type": "stream",
     "text": [
      "아래 뉴스 기사 제목과 키워드입니다. \n",
      "이 정보를 바탕으로 한 문단으로 구성된 간략한 요약문을 작성하십시오. \n",
      "\n",
      "제목: 인공지능 기술의 발전과 미래\n",
      "키워드: 머신러닝,딥러닝,산업 혁신\n",
      "\n"
     ]
    }
   ],
   "source": [
    "multi_template_str = (\n",
    "  \"아래 뉴스 기사 제목과 키워드입니다. \\n\"\n",
    "  \"이 정보를 바탕으로 한 문단으로 구성된 간략한 요약문을 작성하십시오. \\n\\n\"\n",
    "  \"제목: {title}\\n\"\n",
    "  \"키워드: {keywords}\\n\"\n",
    ")\n",
    "\n",
    "summary_prompt = PromptTemplate(\n",
    "    template=multi_template_str, input_variables=[\"title\", \"keywords\"]\n",
    ")\n",
    "\n",
    "sample_title = \"인공지능 기술의 발전과 미래\"\n",
    "sample_keywords = \"머신러닝,딥러닝,산업 혁신\"\n",
    "formatted_summary_prompt = summary_prompt.format(\n",
    "    title=sample_title, keywords=sample_keywords\n",
    ")\n",
    "print(formatted_summary_prompt)"
   ]
  },
  {
   "cell_type": "code",
   "execution_count": 17,
   "id": "82ecbdc3",
   "metadata": {},
   "outputs": [
    {
     "name": "stdout",
     "output_type": "stream",
     "text": [
      "인공지능 기술의 발전은 머신러닝과 딥러닝의 발전을 바탕으로 산업 전반에 혁신을 가져오고 있습니다. 이러한 기술들은 데이터 분석과 자동화 능력을 향상시켜 다양한 분야에서 효율성을 높이고 있으며, 앞으로도 지속적인 연구와 개발을 통해 미래 산업의 핵심 동력으로 자리 잡을 것으로 기대됩니다.\n"
     ]
    }
   ],
   "source": [
    "result_summary = (summary_prompt | llm).invoke({\n",
    "    \"title\": sample_title,\n",
    "    \"keywords\": sample_keywords\n",
    "}\n",
    ")\n",
    "print(result_summary.content) "
   ]
  },
  {
   "cell_type": "markdown",
   "id": "2d29a845",
   "metadata": {},
   "source": [
    "# CHatPromptTemplate"
   ]
  },
  {
   "cell_type": "markdown",
   "id": "adda9fbc",
   "metadata": {},
   "source": [
    "-역할 기반 프롬프트"
   ]
  },
  {
   "cell_type": "code",
   "execution_count": 19,
   "id": "944c5c9d",
   "metadata": {},
   "outputs": [],
   "source": [
    "from langchain.prompts import ChatPromptTemplate  "
   ]
  },
  {
   "cell_type": "code",
   "execution_count": 22,
   "id": "43eeb7e0",
   "metadata": {},
   "outputs": [
    {
     "name": "stdout",
     "output_type": "stream",
     "text": [
      "[SystemMessage(content='당신은 파이썬 분야의 뛰어난 전문가이자 조언자입니다.사용자의 프로그래밍 질문에 친절하고 이해하기 쉽게 답변하십시오.', additional_kwargs={}, response_metadata={}), HumanMessage(content='파이썬의 리스트 컴프리헨션(list comprehension)과 map 함수의 차이가 무엇이야?', additional_kwargs={}, response_metadata={})]\n"
     ]
    }
   ],
   "source": [
    "# 시나리오 : 파이썬 프로그램 전문가 역할 부여, 사용자가 파이썬 관련 질문에 친절히, 간결한 답변 하도록\n",
    "sys_message = (\n",
    "    \"당신은 파이썬 분야의 뛰어난 전문가이자 조언자입니다.\"\n",
    "    \"사용자의 프로그래밍 질문에 친절하고 이해하기 쉽게 답변하십시오.\"\n",
    ")\n",
    "\n",
    "user_message = \"{question}\"  # 사용자 질문 -> 실행 시 입력값으로 채워진다.\n",
    "\n",
    "chat_prompt = ChatPromptTemplate.from_messages(\n",
    "    [(\"system\", sys_message), (\"user\", user_message)]\n",
    ")\n",
    "\n",
    "sample_question = (\n",
    "    \"파이썬의 리스트 컴프리헨션(list comprehension)과 map 함수의 차이가 무엇이야?\"\n",
    ")\n",
    "\n",
    "message = chat_prompt.format_messages(question=sample_question)\n",
    "print(message)"
   ]
  },
  {
   "cell_type": "code",
   "execution_count": 23,
   "id": "9f89e58e",
   "metadata": {},
   "outputs": [
    {
     "name": "stdout",
     "output_type": "stream",
     "text": [
      "안녕하세요! 파이썬에서 리스트 컴프리헨션과 `map()` 함수는 둘 다 기존 리스트(또는 이터러블)의 요소들을 변환해서 새 리스트를 만들 때 사용되지만, 각각의 특징과 차이점이 있어요. 아래에서 쉽게 설명해 드릴게요.\n",
      "\n",
      "---\n",
      "\n",
      "### 1. 리스트 컴프리헨션 (List Comprehension)\n",
      "\n",
      "- **문법 예시:**\n",
      "  ```python\n",
      "  new_list = [expression for item in iterable if condition]\n",
      "  ```\n",
      "- **특징:**\n",
      "  - 간결하고 직관적임.\n",
      "  - 조건문(`if`)을 넣어서 필터링도 가능.\n",
      "  - 여러 조건이나 복잡한 표현식을 넣기 쉽다.\n",
      "  - 새 리스트를 바로 생성.\n",
      "\n",
      "- **예제:**\n",
      "  ```python\n",
      "  numbers = [1, 2, 3, 4, 5]\n",
      "  squares = [x**2 for x in numbers if x > 2]\n",
      "  print(squares)  # [9, 16, 25]\n",
      "  ```\n",
      "\n",
      "---\n",
      "\n",
      "### 2. `map()` 함수\n",
      "\n",
      "- **문법 예시:**\n",
      "  ```python\n",
      "  new_iterable = map(function, iterable)\n",
      "  ```\n",
      "- **특징:**\n",
      "  - 함수와 이터러블을 인자로 받음.\n",
      "  - 반환값은 `map` 객체이기 때문에, 리스트로 변환하려면 `list()`로 감싸야 함.\n",
      "  - 함수가 하나의 인자를 받아서 처리하는 경우에 적합.\n",
      "  - 조건 필터링은 별도로 `filter()`와 함께 사용하거나, 람다 함수 내에서 처리.\n",
      "\n",
      "- **예제:**\n",
      "  ```python\n",
      "  numbers = [1, 2, 3, 4, 5]\n",
      "  squares = list(map(lambda x: x**2, numbers))\n",
      "  print(squares)  # [1, 4, 9, 16, 25]\n",
      "  ```\n",
      "\n",
      "---\n",
      "\n",
      "### 차이점 정리\n",
      "\n",
      "| 특징 | 리스트 컴프리헨션 | `map()` 함수 |\n",
      "|---|---|---|\n",
      "| 문법 | `[expression for item in iterable if condition]` | `map(function, iterable)` |\n",
      "| 가독성 | 간결하고 직관적 | 함수형 프로그래밍 스타일 |\n",
      "| 조건 필터링 | `if`문으로 쉽게 가능 | 별도 `filter()` 필요 또는 람다 내 조건 |\n",
      "| 반환값 | 바로 리스트 | `map` 객체 → `list()`로 변환 필요 |\n",
      "| 복잡한 표현 | 쉽게 가능 | 함수 또는 람다 필요 |\n",
      "\n",
      "---\n",
      "\n",
      "### 결론\n",
      "- **간단하고 직관적인 경우:** 리스트 컴프리헨션 추천.\n",
      "- **함수형 프로그래밍 스타일을 선호하거나, 기존 함수를 재사용하는 경우:** `map()` 사용.\n",
      "\n",
      "혹시 더 궁금한 점 있나요?\n"
     ]
    }
   ],
   "source": [
    "result = (chat_prompt | llm).invoke({\"question\": sample_question})\n",
    "print(result.content)"
   ]
  },
  {
   "cell_type": "markdown",
   "id": "456e30ff",
   "metadata": {},
   "source": [
    "PartialPromptTemplate "
   ]
  },
  {
   "cell_type": "code",
   "execution_count": 24,
   "id": "926a8323",
   "metadata": {},
   "outputs": [],
   "source": [
    "from langchain.prompts import SystemMessagePromptTemplate\n",
    "from langchain.prompts.chat import HumanMessagePromptTemplate"
   ]
  },
  {
   "cell_type": "code",
   "execution_count": 25,
   "id": "e3a10351",
   "metadata": {},
   "outputs": [],
   "source": [
    "role_system_template = (\n",
    "    \"당신은 {role} 분야의 전문 지식인입니다. 가능한 한 자세히 답변해 주세요.\"\n",
    ")\n",
    "system_prompt = SystemMessagePromptTemplate.from_template(role_system_template)\n",
    "user_prompt = HumanMessagePromptTemplate.from_template(\"{question}\")\n",
    "\n",
    "base_chat_prompt = ChatPromptTemplate.from_messages([\n",
    "    system_prompt,\n",
    "    user_prompt\n",
    "])\n",
    "\n",
    "partial_chat_prompt = base_chat_prompt.partial(role=\"주식 투자\")"
   ]
  },
  {
   "cell_type": "code",
   "execution_count": 26,
   "id": "0bc51f1a",
   "metadata": {},
   "outputs": [
    {
     "name": "stdout",
     "output_type": "stream",
     "text": [
      "[SystemMessage(content='당신은 주식 투자 분야의 전문 지식인입니다. 가능한 한 자세히 답변해 주세요.', additional_kwargs={}, response_metadata={}), HumanMessage(content='현재 2025년 5월 시장 상황에서 삼성전자 주식 전망은 어떻습니까?', additional_kwargs={}, response_metadata={})]\n"
     ]
    }
   ],
   "source": [
    "sample_question = \"현재 2025년 5월 시장 상황에서 삼성전자 주식 전망은 어떻습니까?\"\n",
    "message = partial_chat_prompt.format_messages(question=sample_question)\n",
    "print(message)"
   ]
  },
  {
   "cell_type": "code",
   "execution_count": 27,
   "id": "6a01ac3e",
   "metadata": {},
   "outputs": [
    {
     "name": "stdout",
     "output_type": "stream",
     "text": [
      "안녕하세요! 저는 최신 시장 데이터나 실시간 정보를 제공할 수 없기 때문에 2025년 5월의 삼성전자 주식 전망에 대해 구체적인 예측을 드리기 어렵습니다. 그러나 일반적으로 주식 전망을 분석할 때 고려할 수 있는 몇 가지 중요한 요소를 안내해 드릴 수 있습니다.\n",
      "\n",
      "1. **기업 실적과 재무상태**  \n",
      "   삼성전자의 최근 실적, 매출 성장률, 이익률, 부채비율 등을 살펴보세요. 강한 재무 상태와 지속적인 성장세는 긍정적인 신호입니다.\n",
      "\n",
      "2. **산업 및 시장 동향**  \n",
      "   반도체, 스마트폰, 디스플레이 등 삼성전자가 주력하는 산업의 글로벌 수요와 공급 상황, 기술 혁신, 경쟁사 동향을 분석하세요.\n",
      "\n",
      "3. **거시경제 환경**  \n",
      "   글로벌 경제 성장률, 금리, 환율, 인플레이션 등 거시경제 지표가 주가에 영향을 미칩니다. 특히 환율 변동은 수출 중심 기업인 삼성전자에 큰 영향을 줄 수 있습니다.\n",
      "\n",
      "4. **정책 및 규제**  \n",
      "   정부의 정책, 무역 규제, 기술 표준 등도 기업의 성장에 영향을 미칠 수 있습니다.\n",
      "\n",
      "5. **기술 혁신과 신제품 개발**  \n",
      "   삼성전자의 신기술, 신제품 출시 계획, 연구개발 투자 현황도 중요한 분석 포인트입니다.\n",
      "\n",
      "6. **시장 심리와 투자자 기대감**  \n",
      "   시장의 전반적인 분위기와 투자자 기대감도 주가에 영향을 미칩니다.\n",
      "\n",
      "---\n",
      "\n",
      "**요약:**  \n",
      "삼성전자 주식의 미래 전망은 여러 복합적인 요인에 따라 달라지기 때문에, 최신 재무제표, 산업 동향, 글로벌 경제 상황 등을 종합적으로 분석하는 것이 중요합니다. 만약 투자 결정을 하시려면 금융 전문가와 상담하거나, 신뢰할 수 있는 시장 분석 자료를 참고하는 것도 좋은 방법입니다.\n",
      "\n",
      "궁금하신 점이 더 있거나, 특정 분석 방법에 대해 알고 싶으시면 언제든 질문해 주세요!\n"
     ]
    }
   ],
   "source": [
    "result = (chat_prompt | llm).invoke({\"question\": sample_question})\n",
    "print(result.content)"
   ]
  },
  {
   "cell_type": "code",
   "execution_count": null,
   "id": "43a4f87d",
   "metadata": {},
   "outputs": [],
   "source": []
  },
  {
   "cell_type": "code",
   "execution_count": null,
   "id": "74a66640",
   "metadata": {},
   "outputs": [],
   "source": []
  },
  {
   "cell_type": "code",
   "execution_count": null,
   "id": "ed597dca",
   "metadata": {},
   "outputs": [],
   "source": []
  },
  {
   "cell_type": "code",
   "execution_count": null,
   "id": "561a93f7",
   "metadata": {},
   "outputs": [],
   "source": []
  },
  {
   "cell_type": "code",
   "execution_count": null,
   "id": "1a550e5d",
   "metadata": {},
   "outputs": [],
   "source": []
  }
 ],
 "metadata": {
  "kernelspec": {
   "display_name": ".venv",
   "language": "python",
   "name": "python3"
  },
  "language_info": {
   "codemirror_mode": {
    "name": "ipython",
    "version": 3
   },
   "file_extension": ".py",
   "mimetype": "text/x-python",
   "name": "python",
   "nbconvert_exporter": "python",
   "pygments_lexer": "ipython3",
   "version": "3.13.2"
  }
 },
 "nbformat": 4,
 "nbformat_minor": 5
}
